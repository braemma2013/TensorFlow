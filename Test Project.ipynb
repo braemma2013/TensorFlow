{
    "cells": [
        {
            "cell_type": "markdown",
            "metadata": {},
            "source": "# Description\nAttrition Data"
        },
        {
            "cell_type": "code",
            "execution_count": 1,
            "metadata": {},
            "outputs": [
                {
                    "data": {
                        "text/html": "<table>\n<thead><tr><th scope=col>satisfaction_level</th><th scope=col>last_evaluation</th><th scope=col>number_project</th><th scope=col>average_montly_hours</th><th scope=col>time_spend_company</th><th scope=col>Work_accident</th><th scope=col>promotion_last_5years</th><th scope=col>Dept</th><th scope=col>salary</th><th scope=col>left</th></tr></thead>\n<tbody>\n\t<tr><td>0.38  </td><td>0.53  </td><td>2     </td><td>157   </td><td>3     </td><td>0     </td><td>0     </td><td>sales </td><td>low   </td><td>1     </td></tr>\n\t<tr><td>0.80  </td><td>0.86  </td><td>5     </td><td>262   </td><td>6     </td><td>0     </td><td>0     </td><td>sales </td><td>medium</td><td>1     </td></tr>\n\t<tr><td>0.11  </td><td>0.88  </td><td>7     </td><td>272   </td><td>4     </td><td>0     </td><td>0     </td><td>sales </td><td>medium</td><td>1     </td></tr>\n\t<tr><td>0.72  </td><td>0.87  </td><td>5     </td><td>223   </td><td>5     </td><td>0     </td><td>0     </td><td>sales </td><td>low   </td><td>1     </td></tr>\n\t<tr><td>0.37  </td><td>0.52  </td><td>2     </td><td>159   </td><td>3     </td><td>0     </td><td>0     </td><td>sales </td><td>low   </td><td>1     </td></tr>\n\t<tr><td>0.41  </td><td>0.50  </td><td>2     </td><td>153   </td><td>3     </td><td>0     </td><td>0     </td><td>sales </td><td>low   </td><td>1     </td></tr>\n</tbody>\n</table>\n",
                        "text/latex": "\\begin{tabular}{r|llllllllll}\n satisfaction\\_level & last\\_evaluation & number\\_project & average\\_montly\\_hours & time\\_spend\\_company & Work\\_accident & promotion\\_last\\_5years & Dept & salary & left\\\\\n\\hline\n\t 0.38   & 0.53   & 2      & 157    & 3      & 0      & 0      & sales  & low    & 1     \\\\\n\t 0.80   & 0.86   & 5      & 262    & 6      & 0      & 0      & sales  & medium & 1     \\\\\n\t 0.11   & 0.88   & 7      & 272    & 4      & 0      & 0      & sales  & medium & 1     \\\\\n\t 0.72   & 0.87   & 5      & 223    & 5      & 0      & 0      & sales  & low    & 1     \\\\\n\t 0.37   & 0.52   & 2      & 159    & 3      & 0      & 0      & sales  & low    & 1     \\\\\n\t 0.41   & 0.50   & 2      & 153    & 3      & 0      & 0      & sales  & low    & 1     \\\\\n\\end{tabular}\n",
                        "text/markdown": "\n| satisfaction_level | last_evaluation | number_project | average_montly_hours | time_spend_company | Work_accident | promotion_last_5years | Dept | salary | left |\n|---|---|---|---|---|---|---|---|---|---|\n| 0.38   | 0.53   | 2      | 157    | 3      | 0      | 0      | sales  | low    | 1      |\n| 0.80   | 0.86   | 5      | 262    | 6      | 0      | 0      | sales  | medium | 1      |\n| 0.11   | 0.88   | 7      | 272    | 4      | 0      | 0      | sales  | medium | 1      |\n| 0.72   | 0.87   | 5      | 223    | 5      | 0      | 0      | sales  | low    | 1      |\n| 0.37   | 0.52   | 2      | 159    | 3      | 0      | 0      | sales  | low    | 1      |\n| 0.41   | 0.50   | 2      | 153    | 3      | 0      | 0      | sales  | low    | 1      |\n\n",
                        "text/plain": "  satisfaction_level last_evaluation number_project average_montly_hours\n1 0.38               0.53            2              157                 \n2 0.80               0.86            5              262                 \n3 0.11               0.88            7              272                 \n4 0.72               0.87            5              223                 \n5 0.37               0.52            2              159                 \n6 0.41               0.50            2              153                 \n  time_spend_company Work_accident promotion_last_5years Dept  salary left\n1 3                  0             0                     sales low    1   \n2 6                  0             0                     sales medium 1   \n3 4                  0             0                     sales medium 1   \n4 5                  0             0                     sales low    1   \n5 3                  0             0                     sales low    1   \n6 3                  0             0                     sales low    1   "
                    },
                    "metadata": {},
                    "output_type": "display_data"
                }
            ],
            "source": "# The code was removed by Watson Studio for sharing."
        },
        {
            "cell_type": "code",
            "execution_count": null,
            "metadata": {},
            "outputs": [],
            "source": ""
        }
    ],
    "metadata": {
        "kernelspec": {
            "display_name": "R 3.6",
            "language": "R",
            "name": "r-3.6"
        },
        "language_info": {
            "codemirror_mode": "r",
            "file_extension": ".r",
            "mimetype": "text/x-r-source",
            "name": "R",
            "pygments_lexer": "r",
            "version": "3.6.1"
        }
    },
    "nbformat": 4,
    "nbformat_minor": 1
}